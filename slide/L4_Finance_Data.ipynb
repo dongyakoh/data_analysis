{
 "cells": [
  {
   "cell_type": "markdown",
   "id": "52168dcd",
   "metadata": {
    "slideshow": {
     "slide_type": "slide"
    }
   },
   "source": [
    "# ファイナンス・データの取得"
   ]
  },
  {
   "cell_type": "markdown",
   "id": "0d4d5980",
   "metadata": {},
   "source": [
    "1. CSVファイルからデータを取得\n",
    "1. pandas_datareaderを使ってデータを取得\n",
    "1. URLからデータを取得"
   ]
  },
  {
   "cell_type": "code",
   "execution_count": null,
   "id": "34a158d2",
   "metadata": {},
   "outputs": [],
   "source": [
    "import pandas as pd\n",
    "import pandas_datareader.data as web\n",
    "\n",
    "# データの取得\n",
    "start_date = '2023-01-01'\n",
    "end_date = '2023-12-31'\n",
    "stock_data = web.DataReader('AAPL', 'yahoo', start_date, end_date)\n",
    "\n",
    "# データの表示\n",
    "print(stock_data.head())"
   ]
  },
  {
   "cell_type": "markdown",
   "id": "c76a670e",
   "metadata": {},
   "source": [
    "# データの前処理"
   ]
  },
  {
   "cell_type": "code",
   "execution_count": null,
   "id": "24e7ea21",
   "metadata": {},
   "outputs": [],
   "source": []
  }
 ],
 "metadata": {
  "celltoolbar": "Slideshow",
  "date": 1661212865.4711595,
  "filename": "python_by_example.md",
  "kernelspec": {
   "display_name": "Python 3 (ipykernel)",
   "language": "python",
   "name": "python3"
  },
  "language_info": {
   "codemirror_mode": {
    "name": "ipython",
    "version": 3
   },
   "file_extension": ".py",
   "mimetype": "text/x-python",
   "name": "python",
   "nbconvert_exporter": "python",
   "pygments_lexer": "ipython3",
   "version": "3.10.9"
  },
  "rise": {
   "enable_chalkboard": true,
   "height": "100%",
   "scroll": true,
   "width": "100%"
  },
  "title": "An Introductory Example"
 },
 "nbformat": 4,
 "nbformat_minor": 5
}
