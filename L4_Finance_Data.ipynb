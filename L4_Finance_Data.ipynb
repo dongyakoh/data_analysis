{
  "cells": [
    {
      "cell_type": "markdown",
      "metadata": {
        "id": "view-in-github",
        "colab_type": "text"
      },
      "source": [
        "<a href=\"https://colab.research.google.com/github/dongyakoh/data_analysis/blob/master/L4_Finance_Data.ipynb\" target=\"_parent\"><img src=\"https://colab.research.google.com/assets/colab-badge.svg\" alt=\"Open In Colab\"/></a>"
      ]
    },
    {
      "cell_type": "markdown",
      "id": "52168dcd",
      "metadata": {
        "id": "52168dcd"
      },
      "source": [
        "# ファイナンス・データの取得"
      ]
    },
    {
      "cell_type": "code",
      "source": [],
      "metadata": {
        "id": "utadsbkzcy6i"
      },
      "id": "utadsbkzcy6i",
      "execution_count": null,
      "outputs": []
    },
    {
      "cell_type": "markdown",
      "id": "0d4d5980",
      "metadata": {
        "id": "0d4d5980"
      },
      "source": [
        "1. CSVファイルからデータを取得\n",
        "1. pandas_datareaderを使ってデータを取得\n",
        "1. URLからデータを取得\n"
      ]
    },
    {
      "cell_type": "markdown",
      "metadata": {
        "id": "I1lz3R5vZfMo"
      },
      "source": [
        "## pandas_datareaderを使ってデータを取得\n"
      ],
      "id": "I1lz3R5vZfMo"
    },
    {
      "cell_type": "markdown",
      "source": [
        "**1. pandas_datareaderのインストール**"
      ],
      "metadata": {
        "id": "wfSfrCwqZ5he"
      },
      "id": "wfSfrCwqZ5he"
    },
    {
      "source": [
        "!pip install pandas_datareader"
      ],
      "cell_type": "code",
      "metadata": {
        "colab": {
          "base_uri": "https://localhost:8080/"
        },
        "id": "4VA-BczDZ1i0",
        "outputId": "f647fb33-577d-46c6-fc25-209375511fea"
      },
      "id": "4VA-BczDZ1i0",
      "execution_count": null,
      "outputs": [
        {
          "output_type": "stream",
          "name": "stdout",
          "text": [
            "Requirement already satisfied: pandas_datareader in /usr/local/lib/python3.10/dist-packages (0.10.0)\n",
            "Requirement already satisfied: lxml in /usr/local/lib/python3.10/dist-packages (from pandas_datareader) (4.9.4)\n",
            "Requirement already satisfied: pandas>=0.23 in /usr/local/lib/python3.10/dist-packages (from pandas_datareader) (1.5.3)\n",
            "Requirement already satisfied: requests>=2.19.0 in /usr/local/lib/python3.10/dist-packages (from pandas_datareader) (2.31.0)\n",
            "Requirement already satisfied: python-dateutil>=2.8.1 in /usr/local/lib/python3.10/dist-packages (from pandas>=0.23->pandas_datareader) (2.8.2)\n",
            "Requirement already satisfied: pytz>=2020.1 in /usr/local/lib/python3.10/dist-packages (from pandas>=0.23->pandas_datareader) (2023.4)\n",
            "Requirement already satisfied: numpy>=1.21.0 in /usr/local/lib/python3.10/dist-packages (from pandas>=0.23->pandas_datareader) (1.25.2)\n",
            "Requirement already satisfied: charset-normalizer<4,>=2 in /usr/local/lib/python3.10/dist-packages (from requests>=2.19.0->pandas_datareader) (3.3.2)\n",
            "Requirement already satisfied: idna<4,>=2.5 in /usr/local/lib/python3.10/dist-packages (from requests>=2.19.0->pandas_datareader) (3.6)\n",
            "Requirement already satisfied: urllib3<3,>=1.21.1 in /usr/local/lib/python3.10/dist-packages (from requests>=2.19.0->pandas_datareader) (2.0.7)\n",
            "Requirement already satisfied: certifi>=2017.4.17 in /usr/local/lib/python3.10/dist-packages (from requests>=2.19.0->pandas_datareader) (2024.2.2)\n",
            "Requirement already satisfied: six>=1.5 in /usr/local/lib/python3.10/dist-packages (from python-dateutil>=2.8.1->pandas>=0.23->pandas_datareader) (1.16.0)\n"
          ]
        }
      ]
    },
    {
      "cell_type": "markdown",
      "source": [
        "**2. pandas_datareaderのインポート**"
      ],
      "metadata": {
        "id": "SAkwJy2MaJdJ"
      },
      "id": "SAkwJy2MaJdJ"
    },
    {
      "source": [
        "import pandas_datareader as pdr"
      ],
      "cell_type": "code",
      "metadata": {
        "id": "QnrYNLbuaIeU"
      },
      "id": "QnrYNLbuaIeU",
      "execution_count": null,
      "outputs": []
    },
    {
      "cell_type": "markdown",
      "source": [
        "**3. データの取得**"
      ],
      "metadata": {
        "id": "Afst2V-VaTc1"
      },
      "id": "Afst2V-VaTc1"
    },
    {
      "source": [
        "# データソースを指定（'yahoo'はGoogle Colabでは現在サポートしていない）\n",
        "data_source = 'stooq'\n",
        "\n",
        "# S&P500の銘柄コードを指定\n",
        "code = '^SPX'\n",
        "\n",
        "# データを取得\n",
        "df = pdr.DataReader(code, data_source)\n",
        "\n",
        "# データの表示\n",
        "print(df.head())"
      ],
      "cell_type": "code",
      "metadata": {
        "colab": {
          "base_uri": "https://localhost:8080/"
        },
        "id": "n6H7BTe5aWXx",
        "outputId": "2865dcba-2581-426d-fd0b-a2a5b4afb42a"
      },
      "id": "n6H7BTe5aWXx",
      "execution_count": null,
      "outputs": [
        {
          "output_type": "stream",
          "name": "stdout",
          "text": [
            "               Open     High      Low    Close        Volume\n",
            "Date                                                        \n",
            "2024-03-28  5248.03  5264.85  5245.82  5254.35  2.404527e+09\n",
            "2024-03-27  5226.31  5249.26  5213.92  5248.49  2.286418e+09\n",
            "2024-03-26  5228.85  5235.16  5203.42  5203.58  2.263813e+09\n",
            "2024-03-25  5219.52  5229.09  5216.09  5218.19  2.087908e+09\n",
            "2024-03-22  5242.48  5246.09  5229.87  5234.18  2.016955e+09\n"
          ]
        }
      ]
    },
    {
      "cell_type": "markdown",
      "source": [
        "**4. 日時指定したデータの取得**"
      ],
      "metadata": {
        "id": "TULvEhxqafNA"
      },
      "id": "TULvEhxqafNA"
    },
    {
      "cell_type": "code",
      "execution_count": null,
      "id": "34a158d2",
      "metadata": {
        "colab": {
          "base_uri": "https://localhost:8080/",
          "height": 238
        },
        "id": "34a158d2",
        "outputId": "5db0585e-40fa-463a-ee14-4e2f163b4687"
      },
      "outputs": [
        {
          "output_type": "execute_result",
          "data": {
            "text/plain": [
              "                Open      High       Low     Close       Volume\n",
              "Date                                                           \n",
              "2022-12-30  26288.00  26321.37  26067.92  26094.50  527361300.0\n",
              "2022-12-29  26074.90  26126.70  25953.92  26093.67  631104500.0\n",
              "2022-12-28  26309.34  26354.27  26199.67  26340.50  615226600.0\n",
              "2022-12-27  26570.78  26620.49  26447.87  26447.87  501794900.0\n",
              "2022-12-26  26299.54  26438.65  26294.85  26405.87  473132000.0"
            ],
            "text/html": [
              "\n",
              "  <div id=\"df-11854206-1443-4ef0-95a5-dbaa448933c7\" class=\"colab-df-container\">\n",
              "    <div>\n",
              "<style scoped>\n",
              "    .dataframe tbody tr th:only-of-type {\n",
              "        vertical-align: middle;\n",
              "    }\n",
              "\n",
              "    .dataframe tbody tr th {\n",
              "        vertical-align: top;\n",
              "    }\n",
              "\n",
              "    .dataframe thead th {\n",
              "        text-align: right;\n",
              "    }\n",
              "</style>\n",
              "<table border=\"1\" class=\"dataframe\">\n",
              "  <thead>\n",
              "    <tr style=\"text-align: right;\">\n",
              "      <th></th>\n",
              "      <th>Open</th>\n",
              "      <th>High</th>\n",
              "      <th>Low</th>\n",
              "      <th>Close</th>\n",
              "      <th>Volume</th>\n",
              "    </tr>\n",
              "    <tr>\n",
              "      <th>Date</th>\n",
              "      <th></th>\n",
              "      <th></th>\n",
              "      <th></th>\n",
              "      <th></th>\n",
              "      <th></th>\n",
              "    </tr>\n",
              "  </thead>\n",
              "  <tbody>\n",
              "    <tr>\n",
              "      <th>2022-12-30</th>\n",
              "      <td>26288.00</td>\n",
              "      <td>26321.37</td>\n",
              "      <td>26067.92</td>\n",
              "      <td>26094.50</td>\n",
              "      <td>527361300.0</td>\n",
              "    </tr>\n",
              "    <tr>\n",
              "      <th>2022-12-29</th>\n",
              "      <td>26074.90</td>\n",
              "      <td>26126.70</td>\n",
              "      <td>25953.92</td>\n",
              "      <td>26093.67</td>\n",
              "      <td>631104500.0</td>\n",
              "    </tr>\n",
              "    <tr>\n",
              "      <th>2022-12-28</th>\n",
              "      <td>26309.34</td>\n",
              "      <td>26354.27</td>\n",
              "      <td>26199.67</td>\n",
              "      <td>26340.50</td>\n",
              "      <td>615226600.0</td>\n",
              "    </tr>\n",
              "    <tr>\n",
              "      <th>2022-12-27</th>\n",
              "      <td>26570.78</td>\n",
              "      <td>26620.49</td>\n",
              "      <td>26447.87</td>\n",
              "      <td>26447.87</td>\n",
              "      <td>501794900.0</td>\n",
              "    </tr>\n",
              "    <tr>\n",
              "      <th>2022-12-26</th>\n",
              "      <td>26299.54</td>\n",
              "      <td>26438.65</td>\n",
              "      <td>26294.85</td>\n",
              "      <td>26405.87</td>\n",
              "      <td>473132000.0</td>\n",
              "    </tr>\n",
              "  </tbody>\n",
              "</table>\n",
              "</div>\n",
              "    <div class=\"colab-df-buttons\">\n",
              "\n",
              "  <div class=\"colab-df-container\">\n",
              "    <button class=\"colab-df-convert\" onclick=\"convertToInteractive('df-11854206-1443-4ef0-95a5-dbaa448933c7')\"\n",
              "            title=\"Convert this dataframe to an interactive table.\"\n",
              "            style=\"display:none;\">\n",
              "\n",
              "  <svg xmlns=\"http://www.w3.org/2000/svg\" height=\"24px\" viewBox=\"0 -960 960 960\">\n",
              "    <path d=\"M120-120v-720h720v720H120Zm60-500h600v-160H180v160Zm220 220h160v-160H400v160Zm0 220h160v-160H400v160ZM180-400h160v-160H180v160Zm440 0h160v-160H620v160ZM180-180h160v-160H180v160Zm440 0h160v-160H620v160Z\"/>\n",
              "  </svg>\n",
              "    </button>\n",
              "\n",
              "  <style>\n",
              "    .colab-df-container {\n",
              "      display:flex;\n",
              "      gap: 12px;\n",
              "    }\n",
              "\n",
              "    .colab-df-convert {\n",
              "      background-color: #E8F0FE;\n",
              "      border: none;\n",
              "      border-radius: 50%;\n",
              "      cursor: pointer;\n",
              "      display: none;\n",
              "      fill: #1967D2;\n",
              "      height: 32px;\n",
              "      padding: 0 0 0 0;\n",
              "      width: 32px;\n",
              "    }\n",
              "\n",
              "    .colab-df-convert:hover {\n",
              "      background-color: #E2EBFA;\n",
              "      box-shadow: 0px 1px 2px rgba(60, 64, 67, 0.3), 0px 1px 3px 1px rgba(60, 64, 67, 0.15);\n",
              "      fill: #174EA6;\n",
              "    }\n",
              "\n",
              "    .colab-df-buttons div {\n",
              "      margin-bottom: 4px;\n",
              "    }\n",
              "\n",
              "    [theme=dark] .colab-df-convert {\n",
              "      background-color: #3B4455;\n",
              "      fill: #D2E3FC;\n",
              "    }\n",
              "\n",
              "    [theme=dark] .colab-df-convert:hover {\n",
              "      background-color: #434B5C;\n",
              "      box-shadow: 0px 1px 3px 1px rgba(0, 0, 0, 0.15);\n",
              "      filter: drop-shadow(0px 1px 2px rgba(0, 0, 0, 0.3));\n",
              "      fill: #FFFFFF;\n",
              "    }\n",
              "  </style>\n",
              "\n",
              "    <script>\n",
              "      const buttonEl =\n",
              "        document.querySelector('#df-11854206-1443-4ef0-95a5-dbaa448933c7 button.colab-df-convert');\n",
              "      buttonEl.style.display =\n",
              "        google.colab.kernel.accessAllowed ? 'block' : 'none';\n",
              "\n",
              "      async function convertToInteractive(key) {\n",
              "        const element = document.querySelector('#df-11854206-1443-4ef0-95a5-dbaa448933c7');\n",
              "        const dataTable =\n",
              "          await google.colab.kernel.invokeFunction('convertToInteractive',\n",
              "                                                    [key], {});\n",
              "        if (!dataTable) return;\n",
              "\n",
              "        const docLinkHtml = 'Like what you see? Visit the ' +\n",
              "          '<a target=\"_blank\" href=https://colab.research.google.com/notebooks/data_table.ipynb>data table notebook</a>'\n",
              "          + ' to learn more about interactive tables.';\n",
              "        element.innerHTML = '';\n",
              "        dataTable['output_type'] = 'display_data';\n",
              "        await google.colab.output.renderOutput(dataTable, element);\n",
              "        const docLink = document.createElement('div');\n",
              "        docLink.innerHTML = docLinkHtml;\n",
              "        element.appendChild(docLink);\n",
              "      }\n",
              "    </script>\n",
              "  </div>\n",
              "\n",
              "\n",
              "<div id=\"df-9680dd70-6765-463a-b17a-9271bf03f63a\">\n",
              "  <button class=\"colab-df-quickchart\" onclick=\"quickchart('df-9680dd70-6765-463a-b17a-9271bf03f63a')\"\n",
              "            title=\"Suggest charts\"\n",
              "            style=\"display:none;\">\n",
              "\n",
              "<svg xmlns=\"http://www.w3.org/2000/svg\" height=\"24px\"viewBox=\"0 0 24 24\"\n",
              "     width=\"24px\">\n",
              "    <g>\n",
              "        <path d=\"M19 3H5c-1.1 0-2 .9-2 2v14c0 1.1.9 2 2 2h14c1.1 0 2-.9 2-2V5c0-1.1-.9-2-2-2zM9 17H7v-7h2v7zm4 0h-2V7h2v10zm4 0h-2v-4h2v4z\"/>\n",
              "    </g>\n",
              "</svg>\n",
              "  </button>\n",
              "\n",
              "<style>\n",
              "  .colab-df-quickchart {\n",
              "      --bg-color: #E8F0FE;\n",
              "      --fill-color: #1967D2;\n",
              "      --hover-bg-color: #E2EBFA;\n",
              "      --hover-fill-color: #174EA6;\n",
              "      --disabled-fill-color: #AAA;\n",
              "      --disabled-bg-color: #DDD;\n",
              "  }\n",
              "\n",
              "  [theme=dark] .colab-df-quickchart {\n",
              "      --bg-color: #3B4455;\n",
              "      --fill-color: #D2E3FC;\n",
              "      --hover-bg-color: #434B5C;\n",
              "      --hover-fill-color: #FFFFFF;\n",
              "      --disabled-bg-color: #3B4455;\n",
              "      --disabled-fill-color: #666;\n",
              "  }\n",
              "\n",
              "  .colab-df-quickchart {\n",
              "    background-color: var(--bg-color);\n",
              "    border: none;\n",
              "    border-radius: 50%;\n",
              "    cursor: pointer;\n",
              "    display: none;\n",
              "    fill: var(--fill-color);\n",
              "    height: 32px;\n",
              "    padding: 0;\n",
              "    width: 32px;\n",
              "  }\n",
              "\n",
              "  .colab-df-quickchart:hover {\n",
              "    background-color: var(--hover-bg-color);\n",
              "    box-shadow: 0 1px 2px rgba(60, 64, 67, 0.3), 0 1px 3px 1px rgba(60, 64, 67, 0.15);\n",
              "    fill: var(--button-hover-fill-color);\n",
              "  }\n",
              "\n",
              "  .colab-df-quickchart-complete:disabled,\n",
              "  .colab-df-quickchart-complete:disabled:hover {\n",
              "    background-color: var(--disabled-bg-color);\n",
              "    fill: var(--disabled-fill-color);\n",
              "    box-shadow: none;\n",
              "  }\n",
              "\n",
              "  .colab-df-spinner {\n",
              "    border: 2px solid var(--fill-color);\n",
              "    border-color: transparent;\n",
              "    border-bottom-color: var(--fill-color);\n",
              "    animation:\n",
              "      spin 1s steps(1) infinite;\n",
              "  }\n",
              "\n",
              "  @keyframes spin {\n",
              "    0% {\n",
              "      border-color: transparent;\n",
              "      border-bottom-color: var(--fill-color);\n",
              "      border-left-color: var(--fill-color);\n",
              "    }\n",
              "    20% {\n",
              "      border-color: transparent;\n",
              "      border-left-color: var(--fill-color);\n",
              "      border-top-color: var(--fill-color);\n",
              "    }\n",
              "    30% {\n",
              "      border-color: transparent;\n",
              "      border-left-color: var(--fill-color);\n",
              "      border-top-color: var(--fill-color);\n",
              "      border-right-color: var(--fill-color);\n",
              "    }\n",
              "    40% {\n",
              "      border-color: transparent;\n",
              "      border-right-color: var(--fill-color);\n",
              "      border-top-color: var(--fill-color);\n",
              "    }\n",
              "    60% {\n",
              "      border-color: transparent;\n",
              "      border-right-color: var(--fill-color);\n",
              "    }\n",
              "    80% {\n",
              "      border-color: transparent;\n",
              "      border-right-color: var(--fill-color);\n",
              "      border-bottom-color: var(--fill-color);\n",
              "    }\n",
              "    90% {\n",
              "      border-color: transparent;\n",
              "      border-bottom-color: var(--fill-color);\n",
              "    }\n",
              "  }\n",
              "</style>\n",
              "\n",
              "  <script>\n",
              "    async function quickchart(key) {\n",
              "      const quickchartButtonEl =\n",
              "        document.querySelector('#' + key + ' button');\n",
              "      quickchartButtonEl.disabled = true;  // To prevent multiple clicks.\n",
              "      quickchartButtonEl.classList.add('colab-df-spinner');\n",
              "      try {\n",
              "        const charts = await google.colab.kernel.invokeFunction(\n",
              "            'suggestCharts', [key], {});\n",
              "      } catch (error) {\n",
              "        console.error('Error during call to suggestCharts:', error);\n",
              "      }\n",
              "      quickchartButtonEl.classList.remove('colab-df-spinner');\n",
              "      quickchartButtonEl.classList.add('colab-df-quickchart-complete');\n",
              "    }\n",
              "    (() => {\n",
              "      let quickchartButtonEl =\n",
              "        document.querySelector('#df-9680dd70-6765-463a-b17a-9271bf03f63a button');\n",
              "      quickchartButtonEl.style.display =\n",
              "        google.colab.kernel.accessAllowed ? 'block' : 'none';\n",
              "    })();\n",
              "  </script>\n",
              "</div>\n",
              "\n",
              "    </div>\n",
              "  </div>\n"
            ],
            "application/vnd.google.colaboratory.intrinsic+json": {
              "type": "dataframe",
              "variable_name": "df",
              "summary": "{\n  \"name\": \"df\",\n  \"rows\": 3181,\n  \"fields\": [\n    {\n      \"column\": \"Date\",\n      \"properties\": {\n        \"dtype\": \"date\",\n        \"min\": \"2010-01-04 00:00:00\",\n        \"max\": \"2022-12-30 00:00:00\",\n        \"num_unique_values\": 3181,\n        \"samples\": [\n          \"2018-10-11 00:00:00\",\n          \"2016-11-04 00:00:00\",\n          \"2019-10-11 00:00:00\"\n        ],\n        \"semantic_type\": \"\",\n        \"description\": \"\"\n      }\n    },\n    {\n      \"column\": \"Open\",\n      \"properties\": {\n        \"dtype\": \"number\",\n        \"std\": 6350.01148201039,\n        \"min\": 8138.19,\n        \"max\": 30606.15,\n        \"num_unique_values\": 3177,\n        \"samples\": [\n          23492.2,\n          17380.54,\n          21456.27\n        ],\n        \"semantic_type\": \"\",\n        \"description\": \"\"\n      }\n    },\n    {\n      \"column\": \"High\",\n      \"properties\": {\n        \"dtype\": \"number\",\n        \"std\": 6377.426375421913,\n        \"min\": 8199.67,\n        \"max\": 30795.78,\n        \"num_unique_values\": 3177,\n        \"samples\": [\n          23587.05,\n          17461.03,\n          21601.46\n        ],\n        \"semantic_type\": \"\",\n        \"description\": \"\"\n      }\n    },\n    {\n      \"column\": \"Low\",\n      \"properties\": {\n        \"dtype\": \"number\",\n        \"std\": 6318.464724079095,\n        \"min\": 8135.79,\n        \"max\": 30505.93,\n        \"num_unique_values\": 3178,\n        \"samples\": [\n          23373.54,\n          17080.59,\n          21308.88\n        ],\n        \"semantic_type\": \"\",\n        \"description\": \"\"\n      }\n    },\n    {\n      \"column\": \"Close\",\n      \"properties\": {\n        \"dtype\": \"number\",\n        \"std\": 6350.576103983054,\n        \"min\": 8160.01,\n        \"max\": 30670.1,\n        \"num_unique_values\": 3177,\n        \"samples\": [\n          23469.39,\n          17425.02,\n          21456.38\n        ],\n        \"semantic_type\": \"\",\n        \"description\": \"\"\n      }\n    },\n    {\n      \"column\": \"Volume\",\n      \"properties\": {\n        \"dtype\": \"number\",\n        \"std\": 543918755.2502277,\n        \"min\": 315893400.0,\n        \"max\": 5951827456.0,\n        \"num_unique_values\": 3179,\n        \"samples\": [\n          728306432.0,\n          1352030592.0,\n          599286300.0\n        ],\n        \"semantic_type\": \"\",\n        \"description\": \"\"\n      }\n    }\n  ]\n}"
            }
          },
          "metadata": {},
          "execution_count": 19
        }
      ],
      "source": [
        "# datatimeのインポート\n",
        "import datetime as dt\n",
        "\n",
        "# 日経平均日次データの取得\n",
        "start = dt.date(2010,1,1)\n",
        "end = dt.date(2022,12,30)\n",
        "df = pdr.DataReader('^NKX','stooq',start=start, end=end)\n",
        "\n",
        "# データの表示\n",
        "df.head()"
      ]
    },
    {
      "cell_type": "markdown",
      "source": [
        "**6. その他のデータソース**\n",
        "\n",
        "pandas_datareaderは、様々なデータソースからデータを取得することができます。\n",
        "\n",
        "* グーグルファイナンス\n",
        "* FRED\n",
        "* 世界銀行\n",
        "* OECD\n",
        "などがあります。"
      ],
      "metadata": {
        "id": "h-kCa4JYcgxc"
      },
      "id": "h-kCa4JYcgxc"
    },
    {
      "cell_type": "markdown",
      "source": [
        "\n",
        "**7. pandas_datareaderの詳細**\n",
        "\n",
        "pandas_datareaderの詳細については、公式ドキュメントを参照してください。\n",
        "\n",
        "https://pandas-datareader.readthedocs.io/en/latest/"
      ],
      "metadata": {
        "id": "_-P7Ai9Icvts"
      },
      "id": "_-P7Ai9Icvts"
    },
    {
      "cell_type": "markdown",
      "source": [
        "## URLからデータを取得"
      ],
      "metadata": {
        "id": "xrI0PeurhZth"
      },
      "id": "xrI0PeurhZth"
    },
    {
      "cell_type": "markdown",
      "id": "c76a670e",
      "metadata": {
        "id": "c76a670e"
      },
      "source": [
        "# データの前処理"
      ]
    },
    {
      "cell_type": "code",
      "execution_count": null,
      "id": "24e7ea21",
      "metadata": {
        "id": "24e7ea21"
      },
      "outputs": [],
      "source": []
    }
  ],
  "metadata": {
    "celltoolbar": "Slideshow",
    "date": 1661212865.4711595,
    "filename": "python_by_example.md",
    "kernelspec": {
      "display_name": "Python 3 (ipykernel)",
      "language": "python",
      "name": "python3"
    },
    "language_info": {
      "codemirror_mode": {
        "name": "ipython",
        "version": 3
      },
      "file_extension": ".py",
      "mimetype": "text/x-python",
      "name": "python",
      "nbconvert_exporter": "python",
      "pygments_lexer": "ipython3",
      "version": "3.10.9"
    },
    "rise": {
      "enable_chalkboard": true,
      "height": "100%",
      "scroll": true,
      "width": "100%"
    },
    "title": "An Introductory Example",
    "colab": {
      "provenance": [],
      "collapsed_sections": [
        "I1lz3R5vZfMo"
      ],
      "include_colab_link": true
    }
  },
  "nbformat": 4,
  "nbformat_minor": 5
}